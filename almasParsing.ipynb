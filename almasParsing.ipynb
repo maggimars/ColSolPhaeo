{
 "cells": [
  {
   "cell_type": "code",
   "execution_count": 1,
   "metadata": {},
   "outputs": [],
   "source": [
    "import pandas as pd\n",
    "from dammit.fileio.gff3 import GFF3Parser"
   ]
  },
  {
   "cell_type": "code",
   "execution_count": 4,
   "metadata": {},
   "outputs": [
    {
     "name": "stderr",
     "output_type": "stream",
     "text": [
      "/Users/brisbin/miniconda2/envs/py3.dammit/lib/python3.6/site-packages/dammit/fileio/gff3.py:73: ParserWarning: Both a converter and dtype were specified for column attributes - only the converter will be used\n",
      "  dtype=dict(self.columns)):\n",
      "/Users/brisbin/miniconda2/envs/py3.dammit/lib/python3.6/site-packages/dammit/fileio/base.py:79: FutureWarning: Sorting because non-concatenation axis is not aligned. A future version\n",
      "of pandas will change to not sort by default.\n",
      "\n",
      "To accept the future behavior, pass 'sort=False'.\n",
      "\n",
      "To retain the current behavior and silence the warning, pass 'sort=True'.\n",
      "\n",
      "  return pd.concat(self, ignore_index=True)\n"
     ]
    },
    {
     "data": {
      "text/html": [
       "<div>\n",
       "<style scoped>\n",
       "    .dataframe tbody tr th:only-of-type {\n",
       "        vertical-align: middle;\n",
       "    }\n",
       "\n",
       "    .dataframe tbody tr th {\n",
       "        vertical-align: top;\n",
       "    }\n",
       "\n",
       "    .dataframe thead th {\n",
       "        text-align: right;\n",
       "    }\n",
       "</style>\n",
       "<table border=\"1\" class=\"dataframe\">\n",
       "  <thead>\n",
       "    <tr style=\"text-align: right;\">\n",
       "      <th></th>\n",
       "      <th>seqid</th>\n",
       "      <th>Name</th>\n",
       "      <th>score</th>\n",
       "    </tr>\n",
       "  </thead>\n",
       "  <tbody>\n",
       "    <tr>\n",
       "      <th>86614</th>\n",
       "      <td>Transcript_36000</td>\n",
       "      <td>sp|R1CW23|ALMA7_EMIHU Dimethlysulfonioproprion...</td>\n",
       "      <td>3.300000e-113</td>\n",
       "    </tr>\n",
       "    <tr>\n",
       "      <th>196363</th>\n",
       "      <td>Transcript_68879</td>\n",
       "      <td>sp|R1ERP2|ALMA4_EMIHU Dimethlysulfonioproprion...</td>\n",
       "      <td>1.800000e-213</td>\n",
       "    </tr>\n",
       "  </tbody>\n",
       "</table>\n",
       "</div>"
      ],
      "text/plain": [
       "                   seqid                                               Name  \\\n",
       "86614   Transcript_36000  sp|R1CW23|ALMA7_EMIHU Dimethlysulfonioproprion...   \n",
       "196363  Transcript_68879  sp|R1ERP2|ALMA4_EMIHU Dimethlysulfonioproprion...   \n",
       "\n",
       "                score  \n",
       "86614   3.300000e-113  \n",
       "196363  1.800000e-213  "
      ]
     },
     "execution_count": 4,
     "metadata": {},
     "output_type": "execute_result"
    }
   ],
   "source": [
    "gff_file  = \"longestIsos_pg_euk_seqs.fasta.dammit.gff3\"\n",
    "annotations = GFF3Parser(filename=gff_file).read()\n",
    "names = annotations.sort_values(by=['seqid', 'score'], ascending=True).query('score < 1e-05').drop_duplicates(subset='seqid')[['seqid', 'Name', 'score']]\n",
    "new_file = names.dropna(axis=0,how='all')\n",
    "new_file.head()"
   ]
  },
  {
   "attachments": {},
   "cell_type": "markdown",
   "metadata": {},
   "source": [
    "ALMA7 TRINITY_DN51587_c0_g1_i1 len=1295 3.300000e-113\n",
    "ALMA4 TRINITY_DN90393_c0_g1_i4 len=1988 1.800000e-213\n",
    "\n",
    "TRINITY_DN51587_c0_g1_i1 low expression, but higher in colonies than in solitary\n",
    "logFC = 3.55, padj = 1.44 e-12 base mean = 631.8166\n",
    "\n",
    "TRINITY_DN90393_c0_g1_i4 (was closest to ALMA1 when only ALMA 1 was searched)\n",
    "low expression in all 8 samples\n",
    "logFC = 0.8 padj = 0.55 base mean = 154.2983\n"
   ]
  }
 ],
 "metadata": {
  "kernelspec": {
   "display_name": "Python 3",
   "language": "python",
   "name": "python3"
  },
  "language_info": {
   "codemirror_mode": {
    "name": "ipython",
    "version": 3
   },
   "file_extension": ".py",
   "mimetype": "text/x-python",
   "name": "python",
   "nbconvert_exporter": "python",
   "pygments_lexer": "ipython3",
   "version": "3.6.5"
  }
 },
 "nbformat": 4,
 "nbformat_minor": 2
}
